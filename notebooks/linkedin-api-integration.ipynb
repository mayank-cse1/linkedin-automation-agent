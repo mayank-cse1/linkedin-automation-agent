{
 "cells": [
  {
   "cell_type": "markdown",
   "metadata": {},
   "source": [
    "# Mastering LinkedIn API: Step-by-Step Guide for Seamless Integration"
   ]
  },
  {
   "cell_type": "markdown",
   "metadata": {},
   "source": [
    "LinkedIn offers a powerful API that allows developers to automate posting and retrieve user information. In this guide, we will walk you through the process of integrating with LinkedIn’s API, covering GET requests, posting text, uploading images, and posting videos.\n",
    "\n",
    "## Step 1: Setting Up LinkedIn API Access\n",
    "\n",
    "To begin, follow these steps to set up your LinkedIn API access:\n",
    "\n",
    "1. **Ensure you have a LinkedIn account** – If you don’t have one, sign up at [LinkedIn](https://www.linkedin.com).\n",
    "2. **Create a Company Page** – You need a company page to post on behalf of an organization.\n",
    "3. **Register an App** – Go to [LinkedIn Developer Portal](https://developer.linkedin.com/) and create an app.\n",
    "4. **Use Your Page Name** – When creating an app, use the name of your LinkedIn Page.\n",
    "5. **Enable Products** – Under the **Products** tab, add:\n",
    "   - **Share on LinkedIn**\n",
    "   - **Sign In with LinkedIn using OpenID Connect**\n",
    "6. **Verify LinkedIn Page** – In the **Settings** tab, verify your LinkedIn page to allow posting access.\n",
    "7. **Generate Access Token** – Navigate to the **Auth** tab and use the **OAuth 2.0 tools** on the right side to generate an access token.\n",
    "8. **Get User Asset ID using Postman** – Once you obtain the access token, use **Postman** to make API requests and retrieve the asset ID.\n",
    "\n",
    "---"
   ]
  },
  {
   "cell_type": "markdown",
   "metadata": {},
   "source": [
    "## Step 2: Making a GET Request to Retrieve User Info\n",
    "\n",
    "To fetch user details, use the following Python script:\n",
    "- Loads environment variables to securely store your **LinkedIn Access Token**.\n",
    "- Makes a GET request to LinkedIn’s API to fetch user details.\n",
    "- If successful, prints user information; otherwise, displays an error.\n"
   ]
  },
  {
   "cell_type": "code",
   "execution_count": 5,
   "metadata": {},
   "outputs": [
    {
     "name": "stdout",
     "output_type": "stream",
     "text": [
      "✅ User Info: {'sub': 'DLIaV4SiSh', 'email_verified': True, 'name': 'MAYANK GUPTA', 'locale': {'country': 'US', 'language': 'en'}, 'given_name': 'MAYANK', 'family_name': 'GUPTA', 'email': 'mayank.guptacse1@gmail.com'}\n"
     ]
    }
   ],
   "source": [
    "import requests\n",
    "import os\n",
    "from dotenv import load_dotenv  # ✅ Import load_dotenv\n",
    "\n",
    "load_dotenv()\n",
    "ACCESS_TOKEN = os.getenv(\"LINKEDIN_ACCESS_TOKEN\")\n",
    "headers = {\n",
    "    \"Authorization\": f\"Bearer {ACCESS_TOKEN}\"\n",
    "}\n",
    "\n",
    "response = requests.get(\"https://api.linkedin.com/v2/userinfo\", headers=headers)\n",
    "\n",
    "if response.status_code == 200:\n",
    "    print(\"✅ User Info:\", response.json())\n",
    "else:\n",
    "    print(f\"❌ Error: {response.status_code}, {response.text}\")\n"
   ]
  },
  {
   "cell_type": "markdown",
   "metadata": {},
   "source": [
    "## Step 3: Posting Text to LinkedIn\n",
    "\n",
    "\n",
    "Once you have your **User URN**, you can post a text update:\n",
    "- Defines the API endpoint for posting text.\n",
    "- Constructs the payload including the text message and visibility settings.\n",
    "- Sends a POST request with the payload to LinkedIn.\n",
    "- Handles success or failure responses."
   ]
  },
  {
   "cell_type": "code",
   "execution_count": null,
   "metadata": {},
   "outputs": [
    {
     "name": "stdout",
     "output_type": "stream",
     "text": [
      "✅ Successfully posted on LinkedIn!\n"
     ]
    }
   ],
   "source": [
    "import requests\n",
    "import os\n",
    "from dotenv import load_dotenv\n",
    "\n",
    "# Load environment variables\n",
    "load_dotenv()\n",
    "\n",
    "# Get LinkedIn Access Token\n",
    "ACCESS_TOKEN = os.getenv(\"LINKEDIN_ACCESS_TOKEN\")\n",
    "USER_PROFILE = os.getenv(\"PROFILE_URN\")\n",
    "USER_URN = \"urn:li:person:USER_PROFILE\"  # Replace with your LinkedIn Profile URN\n",
    "\n",
    "# API Endpoint\n",
    "url = \"https://api.linkedin.com/v2/ugcPosts\"\n",
    "\n",
    "# Request Headers\n",
    "headers = {\n",
    "    \"Authorization\": f\"Bearer {ACCESS_TOKEN}\",\n",
    "    \"X-Restli-Protocol-Version\": \"2.0.0\",\n",
    "    \"Content-Type\": \"application/json\"\n",
    "}\n",
    "\n",
    "# Post Payload\n",
    "payload = {\n",
    "    \"author\": USER_URN,\n",
    "    \"lifecycleState\": \"PUBLISHED\",\n",
    "    \"specificContent\": {\n",
    "        \"com.linkedin.ugc.ShareContent\": {\n",
    "            \"shareCommentary\": {\n",
    "                \"text\": \"🚀 Automating LinkedIn posts using Python API! #Automation #LinkedInAPI\"\n",
    "            },\n",
    "            \"shareMediaCategory\": \"NONE\"\n",
    "        }\n",
    "    },\n",
    "    \"visibility\": {\n",
    "        \"com.linkedin.ugc.MemberNetworkVisibility\": \"PUBLIC\"\n",
    "    }\n",
    "}\n",
    "\n",
    "# Send the POST request\n",
    "response = requests.post(url, headers=headers, json=payload)\n",
    "\n",
    "# Handle response\n",
    "if response.status_code == 201:\n",
    "    print(\"✅ Successfully posted on LinkedIn!\")\n",
    "else:\n",
    "    print(f\"❌ Error: {response.status_code}, {response.text}\")\n"
   ]
  },
  {
   "cell_type": "markdown",
   "metadata": {},
   "source": [
    "## Step 4: Uploading an Image"
   ]
  },
  {
   "cell_type": "markdown",
   "metadata": {},
   "source": [
    "### Step 4.1: Register Image Upload\n",
    "\n",
    "- Registers an image upload by sending a request to LinkedIn.\n",
    "- Retrieves an **Asset URN** and **Upload URL** for uploading the image.\n",
    "\n",
    "Step-by-Step Breakdown\n",
    "\n",
    "1️⃣ **API Endpoint Used**\n",
    "\n",
    "https://api.linkedin.com/v2/assets?action=registerUpload\n",
    "This endpoint tells LinkedIn that you are about to upload an image.\n",
    "\n",
    "2️⃣ **Headers Explanation**\n",
    "\n",
    "\"Authorization\": f\"Bearer {ACCESS_TOKEN}\" → Uses your LinkedIn access token. \n",
    "\n",
    "\"X-Restli-Protocol-Version\": \"2.0.0\" → Required for LinkedIn API v2. \n",
    "\n",
    "\"Content-Type\": \"application/json\" → JSON format request."
   ]
  },
  {
   "cell_type": "code",
   "execution_count": 27,
   "metadata": {},
   "outputs": [
    {
     "name": "stdout",
     "output_type": "stream",
     "text": [
      "✅ Image Upload Registered! Asset URN: urn:li:digitalmediaAsset:D4D22AQEzpCQ7sxKYXw\n"
     ]
    }
   ],
   "source": [
    "import requests\n",
    "import os\n",
    "from dotenv import load_dotenv\n",
    "\n",
    "# Load environment variables\n",
    "load_dotenv()\n",
    "\n",
    "ACCESS_TOKEN = os.getenv(\"LINKEDIN_ACCESS_TOKEN\")\n",
    "USER_PROFILE = os.getenv(\"PROFILE_URN\")\n",
    "\n",
    "USER_URN = f\"urn:li:person:{USER_PROFILE}\"  # Replace with your LinkedIn Profile URN\n",
    "\n",
    "# API endpoint to register an image upload\n",
    "register_url = \"https://api.linkedin.com/v2/assets?action=registerUpload\"\n",
    "\n",
    "headers = {\n",
    "    \"Authorization\": f\"Bearer {ACCESS_TOKEN}\",\n",
    "    \"X-Restli-Protocol-Version\": \"2.0.0\",\n",
    "    \"Content-Type\": \"application/json\"\n",
    "}\n",
    "\n",
    "# Payload to request an upload URL\n",
    "register_payload = {\n",
    "    \"registerUploadRequest\": {\n",
    "        \"recipes\": [\"urn:li:digitalmediaRecipe:feedshare-image\"],\n",
    "        \"owner\": USER_URN,\n",
    "        \"serviceRelationships\": [\n",
    "            {\"relationshipType\": \"OWNER\", \"identifier\": \"urn:li:userGeneratedContent\"}\n",
    "        ]\n",
    "    }\n",
    "}\n",
    "\n",
    "# Send request to register the image\n",
    "response = requests.post(register_url, headers=headers, json=register_payload)\n",
    "\n",
    "if response.status_code == 200:\n",
    "    data = response.json()\n",
    "    asset_urn = data[\"value\"][\"asset\"]\n",
    "    upload_url = data[\"value\"][\"uploadMechanism\"][\"com.linkedin.digitalmedia.uploading.MediaUploadHttpRequest\"][\"uploadUrl\"]\n",
    "    print(f\"✅ Image Upload Registered! Asset URN: {asset_urn}\")\n",
    "else:\n",
    "    print(f\"❌ Error: {response.status_code}, {response.text}\")\n",
    "    exit()\n"
   ]
  },
  {
   "cell_type": "markdown",
   "metadata": {},
   "source": [
    "### Step 4.2: Upload the Image\n",
    "\n",
    "Once we have an upload URL, we use it to upload the image.\n",
    "\n",
    "Upload the Image to LinkedIn"
   ]
  },
  {
   "cell_type": "code",
   "execution_count": 28,
   "metadata": {},
   "outputs": [
    {
     "name": "stdout",
     "output_type": "stream",
     "text": [
      "✅ Image Uploaded Successfully!\n"
     ]
    }
   ],
   "source": [
    "image_path = \"../data/upload_image/AI-Pitch-Analysis.png\"  # Replace with your image file path\n",
    "\n",
    "# Open and upload the image\n",
    "with open(image_path, \"rb\") as image_file:\n",
    "    upload_response = requests.put(upload_url, data=image_file, headers={\"Authorization\": f\"Bearer {ACCESS_TOKEN}\"})\n",
    "\n",
    "if upload_response.status_code == 201:\n",
    "    print(\"✅ Image Uploaded Successfully!\")\n",
    "else:\n",
    "    print(f\"❌ Upload Error: {upload_response.status_code}, {upload_response.text}\")\n",
    "    exit()\n"
   ]
  },
  {
   "cell_type": "markdown",
   "metadata": {},
   "source": [
    "\n",
    "### Step 4.3: Share Image Post\n",
    "Create the LinkedIn Post with the Image\n",
    "\n",
    "Now that the image is uploaded, we can use its asset URN in our post. Post with an Image!!!"
   ]
  },
  {
   "cell_type": "code",
   "execution_count": 29,
   "metadata": {},
   "outputs": [
    {
     "name": "stdout",
     "output_type": "stream",
     "text": [
      "✅ Successfully posted on LinkedIn with an image!\n"
     ]
    }
   ],
   "source": [
    "# API endpoint to create a post\n",
    "post_url = \"https://api.linkedin.com/v2/ugcPosts\"\n",
    "\n",
    "# Payload to create a LinkedIn post with the image\n",
    "post_payload = {\n",
    "    \"author\": USER_URN,\n",
    "    \"lifecycleState\": \"PUBLISHED\",\n",
    "    \"specificContent\": {\n",
    "        \"com.linkedin.ugc.ShareContent\": {\n",
    "            \"shareCommentary\": {\n",
    "                \"text\": \"🚀 Automating LinkedIn second image posts with Python API! #Automation #LinkedInAPI\"\n",
    "            },\n",
    "            \"shareMediaCategory\": \"IMAGE\",\n",
    "            \"media\": [\n",
    "                {\n",
    "                    \"status\": \"READY\",\n",
    "                    \"description\": {\"text\": \"LinkedIn API Image Upload\"},\n",
    "                    \"media\": asset_urn,  # Use the asset URN from Step 1\n",
    "                    \"title\": {\"text\": \"Automation Success!\"}\n",
    "                }\n",
    "            ]\n",
    "        }\n",
    "    },\n",
    "    \"visibility\": {\n",
    "        \"com.linkedin.ugc.MemberNetworkVisibility\": \"PUBLIC\"\n",
    "    }\n",
    "}\n",
    "\n",
    "# Send the post request\n",
    "post_response = requests.post(post_url, headers=headers, json=post_payload)\n",
    "\n",
    "if post_response.status_code == 201:\n",
    "    print(\"✅ Successfully posted on LinkedIn with an image!\")\n",
    "else:\n",
    "    print(f\"❌ Post Error: {post_response.status_code}, {post_response.text}\")\n"
   ]
  },
  {
   "cell_type": "markdown",
   "metadata": {},
   "source": [
    "## Step 5: Uploading a Video"
   ]
  },
  {
   "cell_type": "markdown",
   "metadata": {},
   "source": [
    "### Step 5.1: Register Video Upload\n",
    "(Similar to Image Upload, but use `urn:li:digitalmediaRecipe:feedshare-video` in the payload.)"
   ]
  },
  {
   "cell_type": "code",
   "execution_count": null,
   "metadata": {},
   "outputs": [
    {
     "name": "stdout",
     "output_type": "stream",
     "text": [
      "✅ Video Upload Registered! Asset URN: urn:li:digitalmediaAsset:D4D05AQHlB-kjHcQ-yA\n",
      "⬆️ Upload URL: https://www.linkedin.com/dms-uploads/sp/v2/D4D05AQHlB-kjHcQ-yA/uploadedVideo/B4DZXiYsqYG8AI-/0?ca=vector_feedshare&cn=uploads_secure&ccn=ambry-video&iri=B01-77&sync=0&v=beta&ut=0Eqa9q6hRXlrI1\n"
     ]
    }
   ],
   "source": [
    "import requests\n",
    "import os\n",
    "from dotenv import load_dotenv\n",
    "\n",
    "# Load environment variables\n",
    "load_dotenv()\n",
    "ACCESS_TOKEN = os.getenv(\"LINKEDIN_ACCESS_TOKEN\")\n",
    "USER_PROFILE = os.getenv(\"PROFILE_URN\") # Replace with your LinkedIn Member ID\n",
    "\n",
    "# API Endpoint for registering video upload\n",
    "register_url = \"https://api.linkedin.com/v2/assets?action=registerUpload\"\n",
    "\n",
    "headers = {\n",
    "    \"Authorization\": f\"Bearer {ACCESS_TOKEN}\",\n",
    "    \"X-Restli-Protocol-Version\": \"2.0.0\",\n",
    "    \"Content-Type\": \"application/json\"\n",
    "}\n",
    "\n",
    "# Payload for video upload registration\n",
    "register_payload = {\n",
    "    \"registerUploadRequest\": {\n",
    "        \"recipes\": [\"urn:li:digitalmediaRecipe:feedshare-video\"],\n",
    "        \"owner\": USER_URN,\n",
    "        \"serviceRelationships\": [\n",
    "            {\"relationshipType\": \"OWNER\", \"identifier\": \"urn:li:userGeneratedContent\"}\n",
    "        ]\n",
    "    }\n",
    "}\n",
    "\n",
    "# Sending the request\n",
    "response = requests.post(register_url, headers=headers, json=register_payload)\n",
    "\n",
    "if response.status_code == 200:\n",
    "    data = response.json()\n",
    "    asset_urn = data[\"value\"][\"asset\"]  # This is the unique video asset identifier\n",
    "    upload_url = data[\"value\"][\"uploadMechanism\"][\"com.linkedin.digitalmedia.uploading.MediaUploadHttpRequest\"][\"uploadUrl\"]\n",
    "    print(f\"✅ Video Upload Registered! Asset URN: {asset_urn}\")\n",
    "    print(f\"⬆️ Upload URL: {upload_url}\")\n",
    "else:\n",
    "    print(f\"❌ Error: {response.status_code}, {response.text}\")\n",
    "    exit()\n"
   ]
  },
  {
   "cell_type": "markdown",
   "metadata": {},
   "source": [
    "### Step 5.2: Upload the Video\n",
    "(Use the upload URL to send the video data.)\n",
    "Now that we have the upload_url, we can upload the video via an HTTP PUT request."
   ]
  },
  {
   "cell_type": "code",
   "execution_count": 31,
   "metadata": {},
   "outputs": [
    {
     "name": "stdout",
     "output_type": "stream",
     "text": [
      "✅ Video uploaded successfully!\n"
     ]
    }
   ],
   "source": [
    "import requests\n",
    "\n",
    "video_path = \"../data/upload_video/RAG Over Audio.mp4\"  # Replace with the actual video file path\n",
    "\n",
    "# Open the video file in binary mode\n",
    "with open(video_path, \"rb\") as video_file:\n",
    "    video_data = video_file.read()\n",
    "\n",
    "# Send the video file to LinkedIn\n",
    "upload_response = requests.put(upload_url, headers={\"Authorization\": f\"Bearer {ACCESS_TOKEN}\"}, data=video_data)\n",
    "\n",
    "if upload_response.status_code == 201:\n",
    "    print(\"✅ Video uploaded successfully!\")\n",
    "else:\n",
    "    print(f\"❌ Upload failed: {upload_response.status_code}, {upload_response.text}\")\n"
   ]
  },
  {
   "cell_type": "markdown",
   "metadata": {},
   "source": [
    "### Step 5.3: Share Video Post\n",
    "(Use the asset URN to create a video post.)\n",
    "Once the video is uploaded, use the asset_urn to create a post with the video."
   ]
  },
  {
   "cell_type": "code",
   "execution_count": 32,
   "metadata": {},
   "outputs": [
    {
     "name": "stdout",
     "output_type": "stream",
     "text": [
      "✅ Video Post Published!\n"
     ]
    }
   ],
   "source": [
    "# API Endpoint to create a post\n",
    "post_url = \"https://api.linkedin.com/v2/ugcPosts\"\n",
    "\n",
    "post_payload = {\n",
    "    \"author\": USER_URN,  # Your LinkedIn Member URN\n",
    "    \"lifecycleState\": \"PUBLISHED\",\n",
    "    \"specificContent\": {\n",
    "        \"com.linkedin.ugc.ShareContent\": {\n",
    "            \"shareCommentary\": {\n",
    "                \"text\": \"Check out this awesome video!\"\n",
    "            },\n",
    "            \"shareMediaCategory\": \"VIDEO\",\n",
    "            \"media\": [\n",
    "                {\n",
    "                    \"status\": \"READY\",\n",
    "                    \"description\": {\n",
    "                        \"text\": \"This is my uploaded video.\"\n",
    "                    },\n",
    "                    \"media\": asset_urn,  # Video URN from Step 1\n",
    "                    \"title\": {\n",
    "                        \"text\": \"My Video Post\"\n",
    "                    }\n",
    "                }\n",
    "            ]\n",
    "        }\n",
    "    },\n",
    "    \"visibility\": {\n",
    "        \"com.linkedin.ugc.MemberNetworkVisibility\": \"PUBLIC\"\n",
    "    }\n",
    "}\n",
    "\n",
    "# Send the request to publish the post\n",
    "post_response = requests.post(post_url, headers=headers, json=post_payload)\n",
    "\n",
    "if post_response.status_code == 201:\n",
    "    print(\"✅ Video Post Published!\")\n",
    "else:\n",
    "    print(f\"❌ Post failed: {post_response.status_code}, {post_response.text}\")\n"
   ]
  },
  {
   "cell_type": "markdown",
   "metadata": {},
   "source": [
    "## Conclusion\n",
    "This guide walks you through LinkedIn API integration for retrieving user details, posting text, and sharing images and videos. 🚀 Master these steps to automate your LinkedIn workflow seamlessly!\n",
    "\n",
    "### Blog Link - https://dev.to/mayankcse/mastering-linkedin-api-step-by-step-guide-for-seamless-integration-124n\n"
   ]
  }
 ],
 "metadata": {
  "kernelspec": {
   "display_name": "Python 3",
   "language": "python",
   "name": "python3"
  },
  "language_info": {
   "codemirror_mode": {
    "name": "ipython",
    "version": 3
   },
   "file_extension": ".py",
   "mimetype": "text/x-python",
   "name": "python",
   "nbconvert_exporter": "python",
   "pygments_lexer": "ipython3",
   "version": "3.12.1"
  }
 },
 "nbformat": 4,
 "nbformat_minor": 2
}
