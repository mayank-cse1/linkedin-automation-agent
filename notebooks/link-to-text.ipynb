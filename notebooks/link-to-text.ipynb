{
 "cells": [
  {
   "cell_type": "markdown",
   "metadata": {},
   "source": [
    "## Job Link to Formatted Text Post using GEMINI"
   ]
  },
  {
   "cell_type": "markdown",
   "metadata": {},
   "source": [
    "## Steps to Follow:\n",
    "\n",
    "Install required libraries: pip install requests beautifulsoup4\n",
    "\n",
    "Use requests to fetch the webpage content.\n",
    "\n",
    "Use BeautifulSoup to parse and extract the text."
   ]
  },
  {
   "cell_type": "markdown",
   "metadata": {},
   "source": [
    "* requests.get(url, headers=headers) → Fetches the HTML content of the job page.\n",
    "\n",
    "* BeautifulSoup(response.text, \"html.parser\") → Parses the page source.\n",
    "\n",
    "* soup.find(\"div\", class_=\"section page-centered\") → Locates the job description text.\n",
    "\n",
    "* get_text(separator=\"\\n\", strip=True) → Extracts and cleans the text for better readability."
   ]
  },
  {
   "cell_type": "code",
   "execution_count": 35,
   "metadata": {},
   "outputs": [],
   "source": [
    "from dotenv import load_dotenv  # ✅ Import load_dotenv\n",
    "import os\n",
    "load_dotenv()\n",
    "GEMINI_API_KEY = os.getenv(\"GEMINI_API_KEY\")"
   ]
  },
  {
   "cell_type": "code",
   "execution_count": 36,
   "metadata": {},
   "outputs": [
    {
     "name": "stdout",
     "output_type": "stream",
     "text": [
      "Job Description:\n",
      "\n",
      "Business Analyst – Paytm Merchant Growth\n",
      "About Us:\n",
      "Paytm is India's leading mobile payments and financial services distribution company. Pioneer of the mobile QR payments revolution in India, Paytm builds technologies that help small businesses with payments and commerce. Paytm’s mission is to serve half a billion Indians and bring them to the mainstream economy with the help of technology.\n",
      "About the team:\n",
      "Paytm is experiencing significant growth across its platform, driven by increased adoption of multiple products. A key factor in our success is our ability to understand customer pain points and provide data-driven solutions. A person in this role will work on solving Merchant growth and monetisation on the Paytm for Bu app.\n",
      "Responsibilities:\n",
      "Become the backbone of Paytm’s merchant growth trajectory.\n",
      "1. Collaborate with the merchant growth team to drive charter for MAU on Paytm for Business\n",
      "app.\n",
      "2. Analyze data to identify trends, patterns, and insights that inform business decisions and help\n",
      "increase Paytm’s bottom line.\n",
      "3. Setup robust automated dashboards to drive performance management\n",
      "4. Develop and maintain databases, data systems – reorganizing data in a readable format\n",
      "5. Prepare reports for the management stating trends, patterns, and predictions using relevant data\n",
      "Skills that will help you succeed in this role:\n",
      "1. Strong problem-solving skills with the ability to determine necessary data for\n",
      "testing hypotheses and driving insights.\n",
      "2. Advanced analytical skills with expertise in Excel, SQL, and Hive.\n",
      "3. Experience in handling large-scale datasets efficiently.\n",
      "4. Strong communication and project management abilities.\n",
      "5. Ability to interact with and influence business stakeholders effectively.\n",
      "6. Experience with web analytics platforms is a plus.\n",
      "Why Join us?\n",
      "Bragging rights to be behind the largest fintech lending play in India\n",
      "A fun, energetic and a once-in-a-lifetime environment that enables you to achieve your best possible outcome in your career\n",
      "With enviable 500 mn+ registered users, 21 mn+ merchants and depth of data in our ecosystem, we are in a unique position to democratize credit for deserving consumers & merchants – and we are committed to it. India’s largest digital lending story is brewing here. It’s your opportunity to be a part of the story!\n"
     ]
    }
   ],
   "source": [
    "import requests\n",
    "from bs4 import BeautifulSoup\n",
    "\n",
    "# URL of the job listing\n",
    "job_link = \"https://jobs.lever.co/paytm/8183e3d7-1856-4e58-b817-b1945af8c02a\"\n",
    "\n",
    "# Send a GET request to fetch the page content\n",
    "headers = {\n",
    "    \"User-Agent\": \"Mozilla/5.0 (Windows NT 10.0; Win64; x64) AppleWebKit/537.36 (KHTML, like Gecko) Chrome/120.0.0.0 Safari/537.36\"\n",
    "}\n",
    "\n",
    "response = requests.get(job_link, headers=headers)\n",
    "\n",
    "# Check if request was successful\n",
    "if response.status_code == 200:\n",
    "    # Parse the content using BeautifulSoup\n",
    "    soup = BeautifulSoup(response.text, \"html.parser\")\n",
    "    \n",
    "    # Extract the main job description text\n",
    "    job_description = soup.find(\"div\", class_=\"section page-centered\")  # This may change, so inspect the page source\n",
    "    job_description_text = job_description.get_text(separator=\"\\n\", strip=True)\n",
    "    if job_description:\n",
    "        print(\"Job Description:\\n\")\n",
    "        print(job_description.get_text(separator=\"\\n\", strip=True))\n",
    "    else:\n",
    "        print(\"❌ Could not find job description on the page.\")\n",
    "else:\n",
    "    print(f\"❌ Failed to fetch the page. Status Code: {response.status_code}\")\n"
   ]
  },
  {
   "cell_type": "markdown",
   "metadata": {},
   "source": [
    "## Pydantic Class for structured output"
   ]
  },
  {
   "cell_type": "code",
   "execution_count": 37,
   "metadata": {},
   "outputs": [
    {
     "name": "stdout",
     "output_type": "stream",
     "text": [
      "{\n",
      "  \"job_title\": \"Business Analyst\",\n",
      "  \"company_name\": \"Paytm\",\n",
      "  \"location\": \"India\",\n",
      "  \"about_company\": \"Paytm is India's leading mobile payments and financial services distribution company. Pioneer of the mobile QR payments revolution in India, Paytm builds technologies that help small businesses with payments and commerce. Paytm’s mission is to serve half a billion Indians and bring them to the mainstream economy with the help of technology.\",\n",
      "  \"about_team\": \"Paytm is experiencing significant growth across its platform, driven by increased adoption of multiple products. A key factor in our success is our ability to understand customer pain points and provide data-driven solutions. A person in this role will work on solving Merchant growth and monetisation on the Paytm for Bu app.\",\n",
      "  \"responsibilities\": [\n",
      "    \"Become the backbone of Paytm’s merchant growth trajectory.\",\n",
      "    \"Collaborate with the merchant growth team to drive charter for MAU on Paytm for Business app.\",\n",
      "    \"Analyze data to identify trends, patterns, and insights that inform business decisions and help increase Paytm’s bottom line.\",\n",
      "    \"Setup robust automated dashboards to drive performance management\",\n",
      "    \"Develop and maintain databases, data systems – reorganizing data in a readable format\",\n",
      "    \"Prepare reports for the management stating trends, patterns, and predictions using relevant data\"\n",
      "  ],\n",
      "  \"required_skills\": [\n",
      "    \"Strong problem-solving skills with the ability to determine necessary data for testing hypotheses and driving insights.\",\n",
      "    \"Advanced analytical skills with expertise in Excel, SQL, and Hive.\",\n",
      "    \"Experience in handling large-scale datasets efficiently.\",\n",
      "    \"Strong communication and project management abilities.\",\n",
      "    \"Ability to interact with and influence business stakeholders effectively.\",\n",
      "    \"Experience with web analytics platforms is a plus.\"\n",
      "  ],\n",
      "  \"why_join_us\": \"Bragging rights to be behind the largest fintech lending play in India. A fun, energetic and a once-in-a-lifetime environment that enables you to achieve your best possible outcome in your career. With enviable 500 mn+ registered users, 21 mn+ merchants and depth of data in our ecosystem, we are in a unique position to democratize credit for deserving consumers & merchants – and we are committed to it. India’s largest digital lending story is brewing here. It’s your opportunity to be a part of the story!\",\n",
      "  \"experience\": \"0+\"\n",
      "}\n",
      "job_title='Business Analyst' company_name='Paytm' location='India' about_company=\"Paytm is India's leading mobile payments and financial services distribution company. Pioneer of the mobile QR payments revolution in India, Paytm builds technologies that help small businesses with payments and commerce. Paytm’s mission is to serve half a billion Indians and bring them to the mainstream economy with the help of technology.\" about_team='Paytm is experiencing significant growth across its platform, driven by increased adoption of multiple products. A key factor in our success is our ability to understand customer pain points and provide data-driven solutions. A person in this role will work on solving Merchant growth and monetisation on the Paytm for Bu app.' responsibilities=['Become the backbone of Paytm’s merchant growth trajectory.', 'Collaborate with the merchant growth team to drive charter for MAU on Paytm for Business app.', 'Analyze data to identify trends, patterns, and insights that inform business decisions and help increase Paytm’s bottom line.', 'Setup robust automated dashboards to drive performance management', 'Develop and maintain databases, data systems – reorganizing data in a readable format', 'Prepare reports for the management stating trends, patterns, and predictions using relevant data'] required_skills=['Strong problem-solving skills with the ability to determine necessary data for testing hypotheses and driving insights.', 'Advanced analytical skills with expertise in Excel, SQL, and Hive.', 'Experience in handling large-scale datasets efficiently.', 'Strong communication and project management abilities.', 'Ability to interact with and influence business stakeholders effectively.', 'Experience with web analytics platforms is a plus.'] why_join_us='Bragging rights to be behind the largest fintech lending play in India. A fun, energetic and a once-in-a-lifetime environment that enables you to achieve your best possible outcome in your career. With enviable 500 mn+ registered users, 21 mn+ merchants and depth of data in our ecosystem, we are in a unique position to democratize credit for deserving consumers & merchants – and we are committed to it. India’s largest digital lending story is brewing here. It’s your opportunity to be a part of the story!' experience='0+'\n"
     ]
    }
   ],
   "source": [
    "from google import genai\n",
    "from pydantic import BaseModel, Field\n",
    "from typing import List\n",
    "\n",
    "# Define Pydantic Model\n",
    "class JobDescription(BaseModel):\n",
    "    job_title: str = Field(..., description=\"Title of the job position\")\n",
    "    company_name: str = Field(..., description=\"Name of the company hiring\")\n",
    "    location: str = Field(..., description=\"Job location, if mentioned\")\n",
    "    about_company: str = Field(..., description=\"Brief introduction about the company\")\n",
    "    about_team: str = Field(..., description=\"Details about the team or department\")\n",
    "    responsibilities: List[str] = Field(..., description=\"List of job responsibilities\")\n",
    "    required_skills: List[str] = Field(..., description=\"Skills needed for the role\")\n",
    "    why_join_us: str = Field(..., description=\"Reasons why candidates should join\")\n",
    "    experience: str = Field(..., description=\"Candidate Experience Required, if mentioned else 0+\")\n",
    "\n",
    "# Initialize Gemini Client\n",
    "client = genai.Client(api_key=GEMINI_API_KEY)\n",
    "\n",
    "# Call Gemini API\n",
    "response = client.models.generate_content(\n",
    "    model=\"gemini-2.0-flash\",\n",
    "    contents=job_description_text,\n",
    "    config={\n",
    "        \"response_mime_type\": \"application/json\",\n",
    "        \"response_schema\": JobDescription,\n",
    "    },\n",
    ")\n",
    "\n",
    "# Print JSON response\n",
    "print(response.text)\n",
    "\n",
    "# Parse response into Pydantic Model\n",
    "job_details: JobDescription = response.parsed\n",
    "print(job_details)\n"
   ]
  },
  {
   "cell_type": "code",
   "execution_count": 31,
   "metadata": {},
   "outputs": [
    {
     "name": "stdout",
     "output_type": "stream",
     "text": [
      "Business Analyst\n",
      "job_title='Business Analyst' company_name='Paytm' location='India' about_company=\"Paytm is India's leading mobile payments and financial services distribution company. Pioneer of the mobile QR payments revolution in India, Paytm builds technologies that help small businesses with payments and commerce. Paytm’s mission is to serve half a billion Indians and bring them to the mainstream economy with the help of technology.\" about_team='Paytm is experiencing significant growth across its platform, driven by increased adoption of multiple products. A key factor in our success is our ability to understand customer pain points and provide data-driven solutions. A person in this role will work on solving Merchant growth and monetisation on the Paytm for Bu app.' responsibilities=['Become the backbone of Paytm’s merchant growth trajectory.', 'Collaborate with the merchant growth team to drive charter for MAU on Paytm for Business app.', 'Analyze data to identify trends, patterns, and insights that inform business decisions and help increase Paytm’s bottom line.', 'Setup robust automated dashboards to drive performance management', 'Develop and maintain databases, data systems – reorganizing data in a readable format', 'Prepare reports for the management stating trends, patterns, and predictions using relevant data'] required_skills=['Strong problem-solving skills with the ability to determine necessary data for testing hypotheses and driving insights.', 'Advanced analytical skills with expertise in Excel, SQL, and Hive.', 'Experience in handling large-scale datasets efficiently.', 'Strong communication and project management abilities.', 'Ability to interact with and influence business stakeholders effectively.', 'Experience with web analytics platforms is a plus.'] why_join_us='Bragging rights to be behind the largest fintech lending play in India. A fun, energetic and a once-in-a-lifetime environment that enables you to achieve your best possible outcome in your career. With enviable 500 mn+ registered users, 21 mn+ merchants and depth of data in our ecosystem, we are in a unique position to democratize credit for deserving consumers & merchants – and we are committed to it. India’s largest digital lending story is brewing here. It’s your opportunity to be a part of the story!' experience='0+'\n"
     ]
    }
   ],
   "source": [
    "print(job_details.job_title)\n",
    "print(job_details)"
   ]
  },
  {
   "cell_type": "code",
   "execution_count": 41,
   "metadata": {},
   "outputs": [
    {
     "name": "stdout",
     "output_type": "stream",
     "text": [
      "\n",
      "🚀 # Paytm Hiring! 🚀\n",
      "\n",
      "Role: Business Analyst! \n",
      "Location: India\n",
      "Experience: 0+\n",
      "\n",
      "Skills Required: \n",
      "Strong problem-solving skills with the ability to determine necessary data for testing hypotheses and driving insights. \n",
      "Advanced analytical skills with expertise in Excel, SQL, and Hive. \n",
      "Experience in handling large-scale datasets efficiently. \n",
      "Strong communication and project management abilities. \n",
      "Ability to interact with and influence business stakeholders effectively. \n",
      "Experience with web analytics platforms is a plus. \n",
      "\n",
      "\n",
      "📩 Interested? Apply now 👉 https://jobs.lever.co/paytm/8183e3d7-1856-4e58-b817-b1945af8c02a\n",
      "\n",
      "#Hiring #CareerOpportunity #JoinUs #BusinessAnalyst #DataAnalytics #Paytm 🚀\n",
      "\n"
     ]
    }
   ],
   "source": [
    "job_post = f\"\"\"\n",
    "🚀 # {job_details.company_name} Hiring! 🚀\n",
    "\n",
    "Role: {job_details.job_title}! \n",
    "Location: {job_details.location}\n",
    "Experience: {job_details.experience}\n",
    "\n",
    "\"\"\"\n",
    "\n",
    "job_post += f\"\"\"Skills Required: \\n\"\"\"\n",
    "for index, ele in enumerate(job_details.required_skills):\n",
    "    job_post += f\"{job_details.required_skills[index]} \\n\"\n",
    "job_post += f\"\"\"\n",
    "\n",
    "📩 Interested? Apply now 👉 {job_link}\n",
    "\n",
    "#Hiring #CareerOpportunity #JoinUs #BusinessAnalyst #DataAnalytics #Paytm 🚀\n",
    "\"\"\"\n",
    "\n",
    "print(job_post)"
   ]
  },
  {
   "cell_type": "code",
   "execution_count": null,
   "metadata": {},
   "outputs": [
    {
     "name": "stdout",
     "output_type": "stream",
     "text": [
      "\n",
      "🚀 # Hiring: Business Analyst at Paytm! 🚀\n",
      "\n",
      "📍 Location: India\n",
      "\n",
      "💡 About Paytm:\n",
      "Paytm is India's leading mobile payments and financial services distribution company. Pioneer of the mobile QR payments revolution in India, Paytm builds technologies that help small businesses with payments and commerce. Paytm’s mission is to serve half a billion Indians and bring them to the mainstream economy with the help of technology.\n",
      "\n",
      "🛠 Key Responsibilities:\n",
      "\n",
      "Become the backbone of Paytm’s merchant growth trajectory. \n",
      "Collaborate with the merchant growth team to drive charter for MAU on Paytm for Business app. \n",
      "Analyze data to identify trends, patterns, and insights that inform business decisions and help increase Paytm’s bottom line. \n",
      "Setup robust automated dashboards to drive performance management \n",
      "Develop and maintain databases, data systems – reorganizing data in a readable format \n",
      "Prepare reports for the management stating trends, patterns, and predictions using relevant data \n",
      " \n",
      " 🎯 What You’ll Need: \n",
      "Strong problem-solving skills with the ability to determine necessary data for testing hypotheses and driving insights. \n",
      "Advanced analytical skills with expertise in Excel, SQL, and Hive. \n",
      "Experience in handling large-scale datasets efficiently. \n",
      "Strong communication and project management abilities. \n",
      "Ability to interact with and influence business stakeholders effectively. \n",
      "Experience with web analytics platforms is a plus. \n",
      "\n",
      "🌟 Why Join Us?\n",
      "Bragging rights to be behind the largest fintech lending play in India. A fun, energetic and a once-in-a-lifetime environment that enables you to achieve your best possible outcome in your career. With enviable 500 mn+ registered users, 21 mn+ merchants and depth of data in our ecosystem, we are in a unique position to democratize credit for deserving consumers & merchants – and we are committed to it. India’s largest digital lending story is brewing here. It’s your opportunity to be a part of the story!\n",
      "\n",
      "📩 Interested? Apply now and be part of our journey!\n",
      "\n",
      "#Hiring #CareerOpportunity #JoinUs #BusinessAnalyst #DataAnalytics #Paytm 🚀\n",
      "\n"
     ]
    }
   ],
   "source": [
    "job_post = f\"\"\"\n",
    "🚀 # Hiring: {job_details.job_title} at {job_details.company_name}! 🚀\n",
    "\n",
    "📍 Location: {job_details.location}\n",
    "\n",
    "💡 About {job_details.company_name}:\n",
    "{job_details.about_company}\n",
    "\n",
    "📊 About the Team:\n",
    "{job_details.about_team}\n",
    "\n",
    "🛠 Key Responsibilities:\n",
    "\n",
    "\"\"\"\n",
    "for index, ele in enumerate(job_details.responsibilities):\n",
    "    job_post += f\"{job_details.responsibilities[index]} \\n\"\n",
    "\n",
    "job_post += f\"\"\" \\n 🎯 What You’ll Need: \\n\"\"\"\n",
    "for index, ele in enumerate(job_details.required_skills):\n",
    "    job_post += f\"{job_details.required_skills[index]} \\n\"\n",
    "job_post += f\"\"\"\n",
    "🌟 Why Join Us?\n",
    "{job_details.why_join_us}\n",
    "\n",
    "📩 Interested? Apply now and be part of our journey!\n",
    "\n",
    "#Hiring #CareerOpportunity #JoinUs #BusinessAnalyst #DataAnalytics #Paytm 🚀\n",
    "\"\"\"\n",
    "\n",
    "print(job_post)"
   ]
  }
 ],
 "metadata": {
  "kernelspec": {
   "display_name": "Python 3",
   "language": "python",
   "name": "python3"
  },
  "language_info": {
   "codemirror_mode": {
    "name": "ipython",
    "version": 3
   },
   "file_extension": ".py",
   "mimetype": "text/x-python",
   "name": "python",
   "nbconvert_exporter": "python",
   "pygments_lexer": "ipython3",
   "version": "3.12.1"
  }
 },
 "nbformat": 4,
 "nbformat_minor": 2
}
