{
 "cells": [
  {
   "cell_type": "markdown",
   "metadata": {},
   "source": [
    "## Google Sheets Integration with Python: A Step-by-Step Guide"
   ]
  },
  {
   "cell_type": "markdown",
   "metadata": {},
   "source": [
    "Google Sheets is a powerful cloud-based tool that allows users to store and analyze data collaboratively. Integrating Google Sheets with Python opens up endless automation possibilities, from data entry and report generation to real-time updates. In this guide, we’ll walk through the entire process of integrating Google Sheets with Python using the `gspread` library.\n",
    "\n",
    "## Why Integrate Google Sheets with Python?\n",
    "- **Automate Data Entry**: Update sheets automatically from scripts.\n",
    "- **Analyze Data**: Fetch data for further processing.\n",
    "- **Generate Reports**: Write results directly to a shared sheet.\n",
    "- **Real-time Collaboration**: Keep teams updated with real-time data.\n",
    "\n",
    "---"
   ]
  },
  {
   "cell_type": "markdown",
   "metadata": {},
   "source": [
    "## Step 1: Enable Google Sheets API\n",
    "To interact with Google Sheets from Python, we first need to enable the Google Sheets API and obtain credentials.\n",
    "\n",
    "### 1. Enable API Access\n",
    "1. Go to the [Google Cloud Console](https://console.cloud.google.com/).\n",
    "2. Create a new **project** (or select an existing one).\n",
    "3. Navigate to **APIs & Services > Library**.\n",
    "4. Search for **Google Sheets API** and enable it.\n",
    "5. Also, enable the **Google Drive API** (needed for file access permissions).\n",
    "\n",
    "### 2. Create Service Account Credentials\n",
    "1. Go to **APIs & Services > Credentials**.\n",
    "2. Click on **Create Credentials > Service Account**.\n",
    "3. Assign it a name and click **Create & Continue**.\n",
    "4. Under \"Grant this service account access,\" select **Editor** role (optional but useful).\n",
    "5. After creating, go to the **Keys** tab and click **Add Key > JSON**.\n",
    "6. Download the JSON file (keep it secure).\n",
    "\n",
    "### 3. Share Your Google Sheet\n",
    "- Open the Google Sheet where you want to write data.\n",
    "- Click **Share** and add the email address from the service account JSON file.\n",
    "- Set permissions to **Editor**.\n",
    "\n",
    "---"
   ]
  },
  {
   "cell_type": "markdown",
   "metadata": {},
   "source": [
    "## Step 2: Install Required Libraries\n",
    "Use the following command to install `gspread` and `oauth2client`:\n"
   ]
  },
  {
   "cell_type": "code",
   "execution_count": null,
   "metadata": {},
   "outputs": [],
   "source": [
    "import os\n",
    "from dotenv import load_dotenv  # ✅ Import load_dotenv\n",
    "\n",
    "load_dotenv()\n",
    "GOOGLE_SHEET_ID = os.getenv(\"GOOGLE_SHEET_ID\")\n",
    "SERVICE_ACCOUNT_FILE = os.getenv(\"SERVICE_ACCOUNT_FILE\") # Update with your JSON file"
   ]
  },
  {
   "cell_type": "code",
   "execution_count": 11,
   "metadata": {},
   "outputs": [
    {
     "name": "stdout",
     "output_type": "stream",
     "text": [
      "Requirement already satisfied: gspread in /home/codespace/.python/current/lib/python3.12/site-packages (6.2.0)\n",
      "Requirement already satisfied: google-auth in /home/codespace/.python/current/lib/python3.12/site-packages (2.38.0)\n",
      "Requirement already satisfied: google-auth-oauthlib in /home/codespace/.python/current/lib/python3.12/site-packages (1.2.1)\n",
      "Requirement already satisfied: google-auth-httplib2 in /home/codespace/.python/current/lib/python3.12/site-packages (0.2.0)\n",
      "Requirement already satisfied: cachetools<6.0,>=2.0.0 in /home/codespace/.python/current/lib/python3.12/site-packages (from google-auth) (5.5.2)\n",
      "Requirement already satisfied: pyasn1-modules>=0.2.1 in /home/codespace/.python/current/lib/python3.12/site-packages (from google-auth) (0.4.2)\n",
      "Requirement already satisfied: rsa<5,>=3.1.4 in /home/codespace/.python/current/lib/python3.12/site-packages (from google-auth) (4.9)\n",
      "Requirement already satisfied: requests-oauthlib>=0.7.0 in /home/codespace/.python/current/lib/python3.12/site-packages (from google-auth-oauthlib) (2.0.0)\n",
      "Requirement already satisfied: httplib2>=0.19.0 in /home/codespace/.python/current/lib/python3.12/site-packages (from google-auth-httplib2) (0.22.0)\n",
      "Requirement already satisfied: pyparsing!=3.0.0,!=3.0.1,!=3.0.2,!=3.0.3,<4,>=2.4.2 in /home/codespace/.local/lib/python3.12/site-packages (from httplib2>=0.19.0->google-auth-httplib2) (3.2.1)\n",
      "Requirement already satisfied: pyasn1<0.7.0,>=0.6.1 in /home/codespace/.python/current/lib/python3.12/site-packages (from pyasn1-modules>=0.2.1->google-auth) (0.6.1)\n",
      "Requirement already satisfied: oauthlib>=3.0.0 in /home/codespace/.python/current/lib/python3.12/site-packages (from requests-oauthlib>=0.7.0->google-auth-oauthlib) (3.2.2)\n",
      "Requirement already satisfied: requests>=2.0.0 in /home/codespace/.local/lib/python3.12/site-packages (from requests-oauthlib>=0.7.0->google-auth-oauthlib) (2.32.3)\n",
      "Requirement already satisfied: charset-normalizer<4,>=2 in /home/codespace/.local/lib/python3.12/site-packages (from requests>=2.0.0->requests-oauthlib>=0.7.0->google-auth-oauthlib) (3.4.1)\n",
      "Requirement already satisfied: idna<4,>=2.5 in /home/codespace/.local/lib/python3.12/site-packages (from requests>=2.0.0->requests-oauthlib>=0.7.0->google-auth-oauthlib) (3.10)\n",
      "Requirement already satisfied: urllib3<3,>=1.21.1 in /home/codespace/.local/lib/python3.12/site-packages (from requests>=2.0.0->requests-oauthlib>=0.7.0->google-auth-oauthlib) (2.3.0)\n",
      "Requirement already satisfied: certifi>=2017.4.17 in /home/codespace/.local/lib/python3.12/site-packages (from requests>=2.0.0->requests-oauthlib>=0.7.0->google-auth-oauthlib) (2025.1.31)\n",
      "Note: you may need to restart the kernel to use updated packages.\n"
     ]
    }
   ],
   "source": [
    "pip install gspread google-auth google-auth-oauthlib google-auth-httplib2"
   ]
  },
  {
   "cell_type": "markdown",
   "metadata": {},
   "source": [
    "## Step 3: Authenticate with Google Sheets\n",
    "Create a Python script (`google_sheets.py`) and load the service account credentials.\n",
    "\n"
   ]
  },
  {
   "cell_type": "code",
   "execution_count": null,
   "metadata": {},
   "outputs": [],
   "source": [
    "import gspread\n",
    "from google.oauth2.service_account import Credentials\n",
    "\n",
    "# Load Google Sheets API credentials\n",
    "SCOPES = [\"https://www.googleapis.com/auth/spreadsheets\"]\n",
    "\n",
    "# Authenticate and create the client\n",
    "creds = Credentials.from_service_account_file(SERVICE_ACCOUNT_FILE, scopes=SCOPES)\n",
    "client = gspread.authorize(creds)"
   ]
  },
  {
   "cell_type": "markdown",
   "metadata": {},
   "source": [
    "## Step 4: Open a Google Sheet\n",
    "Now, let's open a Google Sheet by its **ID** (found in the sheet URL):\n"
   ]
  },
  {
   "cell_type": "code",
   "execution_count": 22,
   "metadata": {},
   "outputs": [],
   "source": [
    "# Open the Google Sheet by ID\n",
    "SHEET_ID = GOOGLE_SHEET_ID  # Replace with your actual sheet ID\n",
    "sheet = client.open_by_key(SHEET_ID).sheet1  # Access the first worksheet"
   ]
  },
  {
   "cell_type": "markdown",
   "metadata": {},
   "source": [
    "\n",
    "If you prefer to open it by **name**:\n"
   ]
  },
  {
   "cell_type": "code",
   "execution_count": null,
   "metadata": {},
   "outputs": [],
   "source": [
    "sheet = client.open(\"Your Sheet Name\").sheet1  # Replace with your sheet name\n"
   ]
  },
  {
   "cell_type": "markdown",
   "metadata": {},
   "source": [
    "## Step 5: Read Data from Google Sheets\n",
    "To read all values:\n"
   ]
  },
  {
   "cell_type": "code",
   "execution_count": 23,
   "metadata": {},
   "outputs": [
    {
     "name": "stdout",
     "output_type": "stream",
     "text": [
      "[{'URL': 'ewfdwef', 'Status': 'Updated Value', '': ''}, {'URL': 'wf', 'Status': 'wfwf', '': ''}, {'URL': 'wsf', 'Status': 'wefwf', '': ''}, {'URL': 'John Doe', 'Status': 'john@example.com', '': ''}, {'URL': 'John Doe', 'Status': 'john@example.com', '': 'Data Analyst'}]\n"
     ]
    }
   ],
   "source": [
    "data = sheet.get_all_records()\n",
    "print(data)"
   ]
  },
  {
   "cell_type": "markdown",
   "metadata": {},
   "source": [
    "To read a specific cell:\n",
    "\n"
   ]
  },
  {
   "cell_type": "code",
   "execution_count": 16,
   "metadata": {},
   "outputs": [
    {
     "name": "stdout",
     "output_type": "stream",
     "text": [
      "ewfdwef\n"
     ]
    }
   ],
   "source": [
    "value = sheet.cell(2, 1).value  # Read value from row 2, column 1\n",
    "print(value)"
   ]
  },
  {
   "cell_type": "markdown",
   "metadata": {},
   "source": [
    "## Step 6: Write Data to Google Sheets\n",
    "To insert a **new row**:\n",
    "\n"
   ]
  },
  {
   "cell_type": "code",
   "execution_count": 17,
   "metadata": {},
   "outputs": [
    {
     "name": "stdout",
     "output_type": "stream",
     "text": [
      "✅ Row added successfully!\n"
     ]
    }
   ],
   "source": [
    "row_data = [\"John Doe\", \"john@example.com\", \"Data Analyst\"]\n",
    "sheet.append_row(row_data)\n",
    "print(\"✅ Row added successfully!\")"
   ]
  },
  {
   "cell_type": "markdown",
   "metadata": {},
   "source": [
    "To update a **specific cell**:\n",
    "\n"
   ]
  },
  {
   "cell_type": "code",
   "execution_count": 18,
   "metadata": {},
   "outputs": [
    {
     "name": "stdout",
     "output_type": "stream",
     "text": [
      "✅ Cell updated successfully!\n"
     ]
    }
   ],
   "source": [
    "sheet.update_cell(2, 2, \"Updated Value\")  # Update row 2, column 2\n",
    "print(\"✅ Cell updated successfully!\")"
   ]
  },
  {
   "cell_type": "markdown",
   "metadata": {},
   "source": [
    "## Step 7: Delete Data from Google Sheets\n",
    "To clear an entire row:"
   ]
  },
  {
   "cell_type": "code",
   "execution_count": null,
   "metadata": {},
   "outputs": [],
   "source": [
    "sheet.delete_row(2)  # Deletes the second row\n",
    "print(\"✅ Row deleted successfully!\")"
   ]
  },
  {
   "cell_type": "markdown",
   "metadata": {},
   "source": [
    "## Advanced Features"
   ]
  },
  {
   "cell_type": "markdown",
   "metadata": {},
   "source": [
    "### 1. Creating a New Google Sheet\n"
   ]
  },
  {
   "cell_type": "code",
   "execution_count": null,
   "metadata": {},
   "outputs": [],
   "source": [
    "new_sheet = client.create(\"My New Google Sheet\")\n",
    "print(f\"✅ New sheet created: {new_sheet.url}\")"
   ]
  },
  {
   "cell_type": "markdown",
   "metadata": {},
   "source": [
    "### 2. Sharing a Google Sheet\n"
   ]
  },
  {
   "cell_type": "code",
   "execution_count": null,
   "metadata": {},
   "outputs": [],
   "source": [
    "new_sheet.share(\"someone@example.com\", perm_type=\"user\", role=\"writer\")\n",
    "print(\"✅ Sheet shared successfully!\")"
   ]
  },
  {
   "cell_type": "code",
   "execution_count": null,
   "metadata": {},
   "outputs": [],
   "source": [
    "import gspread\n",
    "from google.oauth2.service_account import Credentials\n",
    "\n",
    "# Load Google Sheets API credentials\n",
    "SERVICE_ACCOUNT_FILE = \"your-service-account-file.json\"  # Update with your JSON file\n",
    "SCOPES = [\"https://www.googleapis.com/auth/spreadsheets\"]\n",
    "\n",
    "# Authenticate and create the client\n",
    "creds = Credentials.from_service_account_file(SERVICE_ACCOUNT_FILE, scopes=SCOPES)\n",
    "client = gspread.authorize(creds)"
   ]
  },
  {
   "cell_type": "markdown",
   "metadata": {},
   "source": [
    "## Conclusion\n",
    "Integrating Google Sheets with Python can significantly improve productivity and automate data management tasks. This guide covered:\n",
    "\n",
    "✅ Enabling Google Sheets API \n",
    "\n",
    "✅ Authenticating with Python\n",
    "\n",
    "✅ Reading, writing, and updating Google Sheets data\n",
    "\n",
    "✅ Advanced features like creating and sharing sheets\n",
    "\n",
    "Start building your own Python-powered Google Sheets automation today! 🚀\n",
    "\n",
    "Blog Link - https://dev.to/mayankcse/google-sheets-integration-with-python-a-step-by-step-guide-2mdb"
   ]
  }
 ],
 "metadata": {
  "kernelspec": {
   "display_name": "Python 3",
   "language": "python",
   "name": "python3"
  },
  "language_info": {
   "codemirror_mode": {
    "name": "ipython",
    "version": 3
   },
   "file_extension": ".py",
   "mimetype": "text/x-python",
   "name": "python",
   "nbconvert_exporter": "python",
   "pygments_lexer": "ipython3",
   "version": "3.12.1"
  }
 },
 "nbformat": 4,
 "nbformat_minor": 2
}
